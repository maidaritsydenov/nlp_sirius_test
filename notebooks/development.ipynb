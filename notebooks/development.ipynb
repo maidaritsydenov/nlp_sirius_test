{
 "cells": [
  {
   "metadata": {},
   "cell_type": "code",
   "source": [
    "from llama_cpp import Llama\n",
    "\n",
    "llm = Llama(model_path=\"models/saiga_model-q4_K.gguf\")"
   ],
   "id": "6c6b66007fce547d",
   "outputs": [],
   "execution_count": null
  },
  {
   "metadata": {},
   "cell_type": "code",
   "source": [
    "from langchain.llms import LlamaCpp\n",
    "from langchain.embeddings import LlamaCppEmbeddings\n",
    "\n",
    "llm = Llama(model_path=\"models/saiga_model-q4_K.gguf\")\n",
    "embeddings = LlamaCppEmbeddings(model_path=\"../models/llama-7b.ggmlv3.q4_K_S.bin\")\n",
    "# llm_chain = LLMChain(llm=llm, prompt=prompt)\n"
   ],
   "id": "9dd5d05e-3554-4ec9-87dc-05603a4de9a2",
   "outputs": [],
   "execution_count": null
  }
 ],
 "metadata": {
  "kernelspec": {
   "display_name": "mykernel",
   "language": "python",
   "name": "mykernel"
  },
  "language_info": {
   "codemirror_mode": {
    "name": "ipython",
    "version": 3
   },
   "file_extension": ".py",
   "mimetype": "text/x-python",
   "name": "python",
   "nbconvert_exporter": "python",
   "pygments_lexer": "ipython3",
   "version": "3.8.19"
  }
 },
 "nbformat": 4,
 "nbformat_minor": 5
}
