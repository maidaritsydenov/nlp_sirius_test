{
 "cells": [
  {
   "cell_type": "code",
   "execution_count": 17,
   "id": "ef24e1e9-6eb0-4b29-9fe5-886cb5a1c410",
   "metadata": {},
   "outputs": [],
   "source": [
    "import pickle\n",
    "import numpy as np\n",
    "import torch\n",
    "from make_embeddings import CreateEmbeddings\n",
    "from make_llm_answer import LlamaInference\n",
    "\n",
    "DATA_DICT_PATH = \"./db_embedds/data_dict.pickle\"\n",
    "\n",
    "def calc_cos_similarity(text: str):\n",
    "    embedding = embedds_model.get_embedding(text)\n",
    "    scores = []\n",
    "    cos = torch.nn.CosineSimilarity(dim=1, eps=1e-6)\n",
    "    for embed in embeddings_raw:\n",
    "        score = cos(torch.Tensor(embedding), torch.Tensor(embed))\n",
    "        scores.append(score[0])\n",
    "    sorted_index = np.argsort(scores)[::-1]\n",
    "    return sorted_index, scores\n",
    "\n",
    "\n",
    "class QnA_assistant:\n",
    "    def __init__(\n",
    "            self,\n",
    "            threshold: float = 0.9):\n",
    "        self.threshold = threshold\n",
    "\n",
    "    def main(self, text: str) -> str:\n",
    "        print(f\"INFO: user question: {text}\")\n",
    "        sorted_index, scores = calc_cos_similarity(user_text)\n",
    "        best_match_idx = sorted_index[0]\n",
    "        cos_score = scores[best_match_idx].numpy()\n",
    "\n",
    "        # Если есть похожий вопрос\n",
    "        print(f\"INFO: {float(cos_score) = }\")\n",
    "        if float(cos_score) >= self.threshold:\n",
    "            # Возвращаем ответ на этот вопрос\n",
    "            _, supposed_answer = questions_list[best_match_idx], answers_list[best_match_idx]\n",
    "            print(f\"INFO: answer: {supposed_answer}\")\n",
    "            return supposed_answer\n",
    "        else:\n",
    "            # Иначе создаем промпт для llm\n",
    "            llm_prompt = self._get_prompt(text, sorted_index)\n",
    "            print(f\"INFO: llm_prompt:\\n{llm_prompt}\")\n",
    "            # Генерим ответ с помощью llm\n",
    "            llm_answer = llm_assistant.interact(user_message=llm_prompt)\n",
    "            print(f\"INFO: answer: {llm_answer}\")\n",
    "            return llm_answer\n",
    "\n",
    "    def _get_prompt(self, text: str, sorted_index: np.ndarray) -> str:\n",
    "        \"\"\"Часть хорошего промпт-инжиниринга.\"\"\"\n",
    "        # Sub-instruction for specific task\n",
    "        llm_prompt = \"Твоя задача - дать ответ на вопрос. Отвечай на русском языке.\\n\"\n",
    "        # Retrieval-Augmented Generation, 4 nearest examples from embedding database + solutions\n",
    "        llm_prompt = llm_prompt + \"Следуй примерам question - answer:\\n\"\n",
    "        for i in range(0, 3):\n",
    "            question = str.replace(questions_list[sorted_index[i]], \"\\n\", \"\")\n",
    "            question = str.replace(question, \"passage: \", \"\")\n",
    "            answer = str.replace(answers_list[sorted_index[i]], \"\\n\", \"\")\n",
    "\n",
    "            if answer not in [\"\", \" \", None]:\n",
    "                llm_prompt = llm_prompt + f\"question: {question}, answer: {answer}\\n\"\n",
    "\n",
    "        # User question\n",
    "        llm_prompt = llm_prompt + f\"Дай ответ на вопрос:\\nquestion: {text} answer: \"\n",
    "        return llm_prompt\n"
   ]
  },
  {
   "cell_type": "code",
   "execution_count": null,
   "id": "0b94cbe6-7507-47b5-bee1-e606957e744d",
   "metadata": {},
   "outputs": [],
   "source": [
    "embedds_model = CreateEmbeddings()\n",
    "assistant = QnA_assistant()\n",
    "llm_assistant = LlamaInference()\n",
    "\n",
    "data_dict = pickle.load(open(DATA_DICT_PATH, \"rb\"))\n",
    "embeddings_raw, questions_list, answers_list = embedds_model.get_embeddings(data_dict)"
   ]
  },
  {
   "cell_type": "code",
   "execution_count": 19,
   "id": "c7aed6fa-7ea2-4a9e-92a6-84a9713b1893",
   "metadata": {},
   "outputs": [
    {
     "name": "stdout",
     "output_type": "stream",
     "text": [
      "Загрузка готовых эмбеддингов.\n",
      "INFO: user question: Когда был построен первый небоскрёб в России?\n",
      "INFO: float(cos_score) = 0.9686200022697449\n",
      "INFO: answer: в 1885 году\n",
      "\n",
      "в 1885 году\n",
      "\n"
     ]
    }
   ],
   "source": [
    "user_text = \"Когда был построен первый небоскрёб в России?\"\n",
    "answer = assistant.main(user_text)\n",
    "print(answer)"
   ]
  },
  {
   "cell_type": "code",
   "execution_count": 22,
   "id": "2176150b-6bc3-4ada-8349-5889f2a5a4d9",
   "metadata": {},
   "outputs": [
    {
     "name": "stdout",
     "output_type": "stream",
     "text": [
      "INFO: user question: В каком веке до нашей эры появилась Месопотамия?\n",
      "INFO: float(cos_score) = 0.9221290349960327\n",
      "INFO: answer: \n",
      "\n",
      "\n",
      "\n"
     ]
    }
   ],
   "source": [
    "user_text = \"В каком веке до нашей эры появилась Месопотамия?\"\n",
    "answer = assistant.main(user_text)\n",
    "print(answer)"
   ]
  }
 ],
 "metadata": {
  "kernelspec": {
   "display_name": "my_kernel",
   "language": "python",
   "name": "my_kernel"
  },
  "language_info": {
   "codemirror_mode": {
    "name": "ipython",
    "version": 3
   },
   "file_extension": ".py",
   "mimetype": "text/x-python",
   "name": "python",
   "nbconvert_exporter": "python",
   "pygments_lexer": "ipython3",
   "version": "3.8.19"
  }
 },
 "nbformat": 4,
 "nbformat_minor": 5
}
